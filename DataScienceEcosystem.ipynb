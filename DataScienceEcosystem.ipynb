{
 "cells": [
  {
   "cell_type": "markdown",
   "id": "5b6ddd6a",
   "metadata": {},
   "source": [
    "# Data Science Tools and Ecosystem"
   ]
  },
  {
   "cell_type": "code",
   "execution_count": 2,
   "id": "7a3b25a8",
   "metadata": {},
   "outputs": [
    {
     "name": "stdout",
     "output_type": "stream",
     "text": [
      "Data Science Tools and Ecosystem\n"
     ]
    }
   ],
   "source": [
    "print(\"Data Science Tools and Ecosystem\")"
   ]
  },
  {
   "cell_type": "markdown",
   "id": "c742ec66",
   "metadata": {},
   "source": [
    "## In this notebook, Data Science Tools and Ecosystem are summarized."
   ]
  },
  {
   "cell_type": "code",
   "execution_count": 3,
   "id": "a8cfaf93",
   "metadata": {},
   "outputs": [
    {
     "name": "stdout",
     "output_type": "stream",
     "text": [
      "INTRODUCTION\n"
     ]
    }
   ],
   "source": [
    "print(\"INTRODUCTION\")"
   ]
  },
  {
   "cell_type": "markdown",
   "id": "ac2fbf66",
   "metadata": {},
   "source": [
    "## Some of the popular languages that Data Scientists use are:"
   ]
  },
  {
   "cell_type": "code",
   "execution_count": 4,
   "id": "9a05a287",
   "metadata": {},
   "outputs": [],
   "source": [
    "languages=['python','R-Language','SPSS']"
   ]
  },
  {
   "cell_type": "code",
   "execution_count": 5,
   "id": "23812cbe",
   "metadata": {},
   "outputs": [
    {
     "name": "stdout",
     "output_type": "stream",
     "text": [
      "['python', 'R-Language', 'SPSS']\n"
     ]
    }
   ],
   "source": [
    "print(languages)"
   ]
  },
  {
   "cell_type": "markdown",
   "id": "a3b51bac",
   "metadata": {},
   "source": [
    "## Some of the commonly used libraries used by Data Scientists include:"
   ]
  },
  {
   "cell_type": "code",
   "execution_count": 6,
   "id": "61233e22",
   "metadata": {},
   "outputs": [],
   "source": [
    "libraries=['Numpy','Pandas','Mathplotlib']"
   ]
  },
  {
   "cell_type": "code",
   "execution_count": 7,
   "id": "5a05c26c",
   "metadata": {},
   "outputs": [
    {
     "name": "stdout",
     "output_type": "stream",
     "text": [
      "['Numpy', 'Pandas', 'Mathplotlib']\n"
     ]
    }
   ],
   "source": [
    "print(libraries)"
   ]
  },
  {
   "cell_type": "markdown",
   "id": "fe652c0a",
   "metadata": {},
   "source": [
    " | Data Science Tools |\n",
    " |--------------------|\n",
    " | Python |\n",
    " | R |\n",
    " | Jupyter Notebook |"
   ]
  },
  {
   "cell_type": "markdown",
   "id": "d5f3431f",
   "metadata": {},
   "source": [
    "### Below are a few examples of evaluating arithmetic expressions in Python"
   ]
  },
  {
   "cell_type": "code",
   "execution_count": 8,
   "id": "a0d06732",
   "metadata": {},
   "outputs": [
    {
     "name": "stdout",
     "output_type": "stream",
     "text": [
      "30\n"
     ]
    }
   ],
   "source": [
    "a=10\n",
    "b=20\n",
    "c=a+b\n",
    "print(c)"
   ]
  },
  {
   "cell_type": "code",
   "execution_count": 9,
   "id": "0c918e36",
   "metadata": {},
   "outputs": [
    {
     "name": "stdout",
     "output_type": "stream",
     "text": [
      "17\n"
     ]
    }
   ],
   "source": [
    "# This a simple arithmetic expression to mutiply then add integers\n",
    "a=(3*4)+5\n",
    "print(a)"
   ]
  },
  {
   "cell_type": "code",
   "execution_count": 10,
   "id": "b5daa4eb",
   "metadata": {},
   "outputs": [
    {
     "name": "stdout",
     "output_type": "stream",
     "text": [
      "3.3333333333333335\n"
     ]
    }
   ],
   "source": [
    "#this will convert 200 minutes to hours by diving by 60\n",
    "b=200/60\n",
    "print(b)"
   ]
  },
  {
   "cell_type": "markdown",
   "id": "18aafac6",
   "metadata": {},
   "source": [
    "## Introduction cell creates with an introduction about data science then an unordered list having popular data science languages then an unordered list having popular data science libraries then an table having the header Data science tools followed by the informations about the open source tools then followed by Arthmetiic expression in python"
   ]
  },
  {
   "cell_type": "markdown",
   "id": "6ea56619",
   "metadata": {},
   "source": [
    "## Author\n",
    "Siyad N"
   ]
  },
  {
   "cell_type": "code",
   "execution_count": null,
   "id": "b0d3beaf",
   "metadata": {},
   "outputs": [],
   "source": []
  }
 ],
 "metadata": {
  "kernelspec": {
   "display_name": "Python 3 (ipykernel)",
   "language": "python",
   "name": "python3"
  },
  "language_info": {
   "codemirror_mode": {
    "name": "ipython",
    "version": 3
   },
   "file_extension": ".py",
   "mimetype": "text/x-python",
   "name": "python",
   "nbconvert_exporter": "python",
   "pygments_lexer": "ipython3",
   "version": "3.9.13"
  }
 },
 "nbformat": 4,
 "nbformat_minor": 5
}
